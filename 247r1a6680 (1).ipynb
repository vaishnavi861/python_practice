{
 "cells": [
  {
   "cell_type": "code",
   "execution_count": 1,
   "id": "0cb81e62-e5dd-4a22-9234-098235cece03",
   "metadata": {},
   "outputs": [
    {
     "name": "stdin",
     "output_type": "stream",
     "text": [
      "enter your name: Vaishnavi\n",
      "enter your address: cmr technical campus\n",
      "enter your email: 247r1a6680@cmrtc.ac.in\n",
      "enter your phone number: 9182986020\n"
     ]
    },
    {
     "name": "stdout",
     "output_type": "stream",
     "text": [
      "Name: Vaishnavi\n",
      "Address: cmr technical campus\n",
      "Email: 247r1a6680@cmrtc.ac.in\n",
      "Phone number: 9182986020\n"
     ]
    }
   ],
   "source": [
    "name=input(\"enter your name:\")\n",
    "address=input(\"enter your address:\")\n",
    "email=input(\"enter your email:\")\n",
    "phone_number=input(\"enter your phone number:\")\n",
    "print(\"Name:\",name)\n",
    "print(\"Address:\",address)\n",
    "print(\"Email:\",email)\n",
    "print(\"Phone number:\",phone_number)"
   ]
  },
  {
   "cell_type": "code",
   "execution_count": 19,
   "id": "85d9fada-f0dc-4f6d-9ed6-3357527aeb8c",
   "metadata": {
    "scrolled": true
   },
   "outputs": [
    {
     "name": "stdin",
     "output_type": "stream",
     "text": [
      "Please Enter the Number of Rows: 5\n"
     ]
    },
    {
     "name": "stdout",
     "output_type": "stream",
     "text": [
      "5 \n",
      "4 4 \n",
      "3 3 3 \n",
      "2 2 2 2 \n",
      "1 1 1 1 1 \n"
     ]
    }
   ],
   "source": [
    "num=int(input(\"Please Enter the Number of Rows:\"))\n",
    "for i in range(1,num+1):\n",
    "        for j in range(1,i+1):\n",
    "            print(num,end=' ')\n",
    "        num=num-1\n",
    "        print()\n",
    "\n"
   ]
  },
  {
   "cell_type": "code",
   "execution_count": 14,
   "id": "07b76ab3-7111-41c1-9412-b3c8849e5dc8",
   "metadata": {},
   "outputs": [
    {
     "name": "stdout",
     "output_type": "stream",
     "text": [
      "1\n",
      "2\n",
      "3\n"
     ]
    }
   ],
   "source": [
    "ch-input(\"Please enter any character:\\t\")\n",
    "if(cb>='A' and ch <= 'Z'):\n",
    "    print(ch,\"is an Upper case character\");\n",
    "elif(ch>='a' anc ch<='z'):\n",
    "    print(ch,\"is an Lower case character\")\n",
    "elif(ch>"
   ]
  },
  {
   "cell_type": "code",
   "execution_count": 1,
   "id": "e6231e2b-ba6c-480d-9168-8b9bac189fee",
   "metadata": {},
   "outputs": [
    {
     "name": "stdout",
     "output_type": "stream",
     "text": [
      "h\n",
      "e\n",
      "l\n",
      "l\n",
      "o\n",
      " \n",
      "v\n",
      "a\n",
      "i\n",
      "s\n",
      "h\n",
      "n\n",
      "a\n",
      "v\n",
      "i\n"
     ]
    }
   ],
   "source": [
    "a=\"hello vaishnavi\"\n",
    "for i in a:\n",
    "    print(i)"
   ]
  },
  {
   "cell_type": "code",
   "execution_count": 4,
   "id": "32f01538-a6c7-437a-9826-92eda6c8f804",
   "metadata": {},
   "outputs": [
    {
     "name": "stdin",
     "output_type": "stream",
     "text": [
      "enter any number: 50\n"
     ]
    },
    {
     "name": "stdout",
     "output_type": "stream",
     "text": [
      "50 * 1 = 50\n",
      "50 * 2 = 100\n",
      "50 * 3 = 150\n",
      "50 * 4 = 200\n",
      "50 * 5 = 250\n",
      "50 * 6 = 300\n",
      "50 * 7 = 350\n",
      "50 * 8 = 400\n",
      "50 * 9 = 450\n",
      "50 * 10 = 500\n"
     ]
    }
   ],
   "source": [
    "list=[1,2,3,4,5,6,7,8,9,10]\n",
    "n=int(input(\"enter any number:\"))\n",
    "for i in list:\n",
    "    c=n*i\n",
    "    print(n,'*',i,'=',c)\n",
    "    "
   ]
  },
  {
   "cell_type": "code",
   "execution_count": 5,
   "id": "fcd23748-b70b-486f-a7c1-5ad10afadeb3",
   "metadata": {},
   "outputs": [
    {
     "name": "stdout",
     "output_type": "stream",
     "text": [
      "The sum is :  308\n"
     ]
    }
   ],
   "source": [
    "list=[11,22,33,44,55,66,77]\n",
    "sum = 0\n",
    "for i in list:\n",
    "    sum = sum + i\n",
    "print(\"The sum is : \",sum)"
   ]
  },
  {
   "cell_type": "code",
   "execution_count": 10,
   "id": "5234826f-c220-4dcc-9695-396d933915cd",
   "metadata": {},
   "outputs": [
    {
     "name": "stdout",
     "output_type": "stream",
     "text": [
      "0\n",
      "2\n",
      "4\n",
      "6\n",
      "8\n"
     ]
    }
   ],
   "source": [
    "for i in range(0,10,2):\n",
    "    print(i)\n"
   ]
  },
  {
   "cell_type": "code",
   "execution_count": 20,
   "id": "cba88775-d9e1-44f8-8e24-4b219fc3f56b",
   "metadata": {},
   "outputs": [
    {
     "name": "stdin",
     "output_type": "stream",
     "text": [
      "enter the no of rows: 6\n"
     ]
    },
    {
     "name": "stdout",
     "output_type": "stream",
     "text": [
      "1 \n",
      "1 2 \n",
      "1 2 3 \n",
      "1 2 3 4 \n",
      "1 2 3 4 5 \n",
      "1 2 3 4 5 6 \n"
     ]
    }
   ],
   "source": [
    "rows=int(input(\"enter the no of rows:\"))\n",
    "for i in range(1,rows+1):\n",
    "    for j in range(1,i+1):\n",
    "        print(j,end=' ')\n",
    "    print()"
   ]
  },
  {
   "cell_type": "code",
   "execution_count": 21,
   "id": "0a97d4b1-425e-4106-b85f-ec70b05ed9e7",
   "metadata": {},
   "outputs": [
    {
     "name": "stdin",
     "output_type": "stream",
     "text": [
      "enter the no of rows: 6\n"
     ]
    },
    {
     "name": "stdout",
     "output_type": "stream",
     "text": [
      "1 \n",
      "2 2 \n",
      "3 3 3 \n",
      "4 4 4 4 \n",
      "5 5 5 5 5 \n",
      "6 6 6 6 6 6 \n"
     ]
    }
   ],
   "source": [
    "rows=int(input(\"enter the no of rows:\"))\n",
    "for i in range(1,rows+1):\n",
    "    for j in range(i):\n",
    "        print(i,end=' ')\n",
    "    print()"
   ]
  },
  {
   "cell_type": "code",
   "execution_count": 23,
   "id": "bd1ed835-c440-421a-a048-cdcb0fc6d77e",
   "metadata": {},
   "outputs": [
    {
     "name": "stdout",
     "output_type": "stream",
     "text": [
      "hello python\n",
      "hello python\n",
      "hello python\n",
      "hello python\n"
     ]
    }
   ],
   "source": [
    "count = 0\n",
    "while count<4:\n",
    "    print(\"hello python\")\n",
    "    count = count+1"
   ]
  },
  {
   "cell_type": "code",
   "execution_count": 32,
   "id": "90b97abf-c5f2-404b-9689-3ea8dc9fb317",
   "metadata": {},
   "outputs": [
    {
     "name": "stdout",
     "output_type": "stream",
     "text": [
      "yes\n",
      "no\n"
     ]
    }
   ],
   "source": [
    "for i in range(1,5,5):\n",
    "    print(\"yes\")\n",
    "else:\n",
    "    print(\"no\")\n"
   ]
  },
  {
   "cell_type": "code",
   "execution_count": 39,
   "id": "62c77ad9-195f-4feb-a946-45c31a5216d0",
   "metadata": {},
   "outputs": [
    {
     "name": "stdout",
     "output_type": "stream",
     "text": [
      "p\n",
      "y\n",
      "t\n",
      "h\n",
      "n\n"
     ]
    }
   ],
   "source": [
    "str = \"python\"\n",
    "for i in str:\n",
    "    if i=='o':\n",
    "        continue;\n",
    "    print(i)"
   ]
  },
  {
   "cell_type": "code",
   "execution_count": 42,
   "id": "b6e50622-53f1-466c-825e-cb34774ef14a",
   "metadata": {},
   "outputs": [
    {
     "name": "stdout",
     "output_type": "stream",
     "text": [
      "1\n",
      "2\n",
      "3\n",
      "4\n",
      "6\n",
      "7\n",
      "8\n",
      "9\n",
      "10\n"
     ]
    }
   ],
   "source": [
    "for i in range(1,11):\n",
    "    if i==5:\n",
    "        continue;\n",
    "    print(i)"
   ]
  },
  {
   "cell_type": "code",
   "execution_count": null,
   "id": "f1e7c3f4-0b9f-42e1-8803-ea5442aeee5a",
   "metadata": {},
   "outputs": [],
   "source": []
  },
  {
   "cell_type": "code",
   "execution_count": null,
   "id": "5caa7cb6-4e5c-4baf-ab12-a1d3d3e74e59",
   "metadata": {},
   "outputs": [],
   "source": [
    "i=1\n",
    "while i<11:\n",
    "    if i == 5:\n",
    "        continue\n",
    "    print(i)\n",
    "    i = i + 1\n",
    "    "
   ]
  },
  {
   "cell_type": "code",
   "execution_count": 12,
   "id": "8ccf0765-9378-4459-9ebe-95597b411cb3",
   "metadata": {},
   "outputs": [
    {
     "name": "stdin",
     "output_type": "stream",
     "text": [
      "please enter any character: %\n"
     ]
    },
    {
     "name": "stdout",
     "output_type": "stream",
     "text": [
      "it is a special character\n"
     ]
    }
   ],
   "source": [
    "ch=input(\"please enter any character:\")\n",
    "\n",
    "if(ch>='A' and ch<='Z'):\n",
    "    print(ch,\"is an upper case character\")\n",
    "elif(ch>='a' and ch<='z'):\n",
    "    print(ch,\"is an lower case character\")\n",
    "elif(ch>='0' and ch<='9'):\n",
    "    print(ch,\"is a digit\")\n",
    "else:\n",
    "    print(\"it is a special character\")"
   ]
  },
  {
   "cell_type": "code",
   "execution_count": 13,
   "id": "ce4ddd29-b14a-4cb3-9769-ecff7dcb88e2",
   "metadata": {},
   "outputs": [
    {
     "name": "stdin",
     "output_type": "stream",
     "text": [
      "how many terms: 10\n"
     ]
    },
    {
     "name": "stdout",
     "output_type": "stream",
     "text": [
      "fibonacci series:\n",
      "0\n",
      "1\n",
      "1\n",
      "2\n",
      "3\n",
      "5\n",
      "8\n",
      "13\n",
      "21\n",
      "34\n"
     ]
    }
   ],
   "source": [
    "nterms=int(input(\"how many terms:\"))\n",
    "n1,n2=0,1\n",
    "count=0\n",
    "if nterms<=0:\n",
    "    print(\"please enter a positive interger\")\n",
    "elif nterms==1:\n",
    "    print(\"fibonacci sequence upto\",nterms,\":\")\n",
    "    print(n1)\n",
    "else:\n",
    "    print(\"fibonacci series:\")\n",
    "    while count<nterms:\n",
    "        print(n1)\n",
    "        nth=n1+n2\n",
    "        n1=n2\n",
    "        n2=nth\n",
    "        count+=1\n",
    "    \n"
   ]
  },
  {
   "cell_type": "code",
   "execution_count": 8,
   "id": "c04096cc-fcdf-48d0-ae51-bf6c96df2776",
   "metadata": {},
   "outputs": [
    {
     "name": "stdin",
     "output_type": "stream",
     "text": [
      "enter lower range value: 2\n",
      "enter upper range value: 10\n"
     ]
    },
    {
     "name": "stdout",
     "output_type": "stream",
     "text": [
      "the prime numbers in the range are: 2 and 10\n",
      "2\n",
      "3\n",
      "5\n",
      "7\n"
     ]
    }
   ],
   "source": [
    "lower_value=int(input(\"enter lower range value:\"))\n",
    "upper_value=int(input(\"enter upper range value:\"))\n",
    "print(\"the prime numbers in the range are:\",lower_value,'and',upper_value)\n",
    "for number in range(lower_value,upper_value+1):\n",
    "    if number>1:\n",
    "        for i in range(2,number):\n",
    "            if (number%i)==0:\n",
    "                break\n",
    "        else:\n",
    "            print(number)"
   ]
  },
  {
   "cell_type": "code",
   "execution_count": 10,
   "id": "8c5b3878-a139-472b-9964-70c0c8a9327e",
   "metadata": {},
   "outputs": [
    {
     "name": "stdout",
     "output_type": "stream",
     "text": [
      "x/y value is:\n"
     ]
    },
    {
     "ename": "AssertionError",
     "evalue": " divide by 0 error",
     "output_type": "error",
     "traceback": [
      "\u001b[1;31m---------------------------------------------------------------------------\u001b[0m",
      "\u001b[1;31mAssertionError\u001b[0m                            Traceback (most recent call last)",
      "Cell \u001b[1;32mIn[10], line 4\u001b[0m\n\u001b[0;32m      2\u001b[0m y\u001b[38;5;241m=\u001b[39m\u001b[38;5;241m0\u001b[39m\n\u001b[0;32m      3\u001b[0m \u001b[38;5;28mprint\u001b[39m(\u001b[38;5;124m\"\u001b[39m\u001b[38;5;124mx/y value is:\u001b[39m\u001b[38;5;124m\"\u001b[39m)\n\u001b[1;32m----> 4\u001b[0m \u001b[38;5;28;01massert\u001b[39;00m y\u001b[38;5;241m!=\u001b[39m\u001b[38;5;241m0\u001b[39m, \u001b[38;5;124m\"\u001b[39m\u001b[38;5;124m divide by 0 error\u001b[39m\u001b[38;5;124m\"\u001b[39m\n\u001b[0;32m      5\u001b[0m \u001b[38;5;28mprint\u001b[39m(x\u001b[38;5;241m/\u001b[39my)\n",
      "\u001b[1;31mAssertionError\u001b[0m:  divide by 0 error"
     ]
    }
   ],
   "source": [
    "x=10\n",
    "y=0\n",
    "print(\"x/y value is:\")\n",
    "assert y!=0, \" divide by 0 error\"\n",
    "print(x/y)"
   ]
  },
  {
   "cell_type": "code",
   "execution_count": 12,
   "id": "7c1be86a-fba0-4347-b9fe-2ffc49d04db1",
   "metadata": {},
   "outputs": [
    {
     "name": "stdout",
     "output_type": "stream",
     "text": [
      "the sum of a and b is: 301\n"
     ]
    }
   ],
   "source": [
    "def sum():\n",
    "    a=101\n",
    "    b=200\n",
    "    c=a+b\n",
    "    return c\n",
    "result=sum()\n",
    "print(\"the sum of a and b is:\",result)"
   ]
  },
  {
   "cell_type": "code",
   "execution_count": 13,
   "id": "e32be5c6-d9ca-4788-85af-63e2db4c78a8",
   "metadata": {},
   "outputs": [
    {
     "name": "stdout",
     "output_type": "stream",
     "text": [
      "area of triangle is: 75.0\n"
     ]
    }
   ],
   "source": [
    "def area():\n",
    "    b=10\n",
    "    h=15\n",
    "    c=0.5*b*h\n",
    "    return c\n",
    "result=area()\n",
    "print(\"area of triangle is:\",result)"
   ]
  },
  {
   "cell_type": "code",
   "execution_count": 14,
   "id": "f8d6f650-7798-41e9-ba56-4ffb62c4bcf2",
   "metadata": {},
   "outputs": [
    {
     "name": "stdout",
     "output_type": "stream",
     "text": [
      "area of circle is: 50.24\n"
     ]
    }
   ],
   "source": [
    "def area():\n",
    "    r=4\n",
    "    area=3.14*r*r\n",
    "    return area\n",
    "result=area()\n",
    "print(\"area of circle is:\",result)"
   ]
  },
  {
   "cell_type": "code",
   "execution_count": 1,
   "id": "529d83a8-9acc-44e1-8883-05e92b5e3f96",
   "metadata": {},
   "outputs": [
    {
     "name": "stdout",
     "output_type": "stream",
     "text": [
      "1\n",
      "2\n",
      "3\n",
      "4\n"
     ]
    }
   ],
   "source": [
    "i=1\n",
    "while i<=4:\n",
    "    print(i)\n",
    "    i+=1"
   ]
  },
  {
   "cell_type": "code",
   "execution_count": 5,
   "id": "db93e01b-a5a0-441b-8de4-27b3fc679868",
   "metadata": {},
   "outputs": [
    {
     "name": "stdin",
     "output_type": "stream",
     "text": [
      "enter no of list elements: 3\n",
      "enter element: 1\n",
      "enter element: 2\n",
      "enter element: 3\n"
     ]
    },
    {
     "name": "stdout",
     "output_type": "stream",
     "text": [
      "[1, 2, 3]\n",
      "<class 'list'>\n"
     ]
    }
   ],
   "source": [
    "import numpy as np\n",
    "my_list=[];\n",
    "list_length=int(input(\"enter no of list elements:\"))\n",
    "for i in range(list_length):\n",
    "    st=int(input(\"enter element:\"))\n",
    "    my_list.append(st)\n",
    "print(my_list)\n",
    "print(type(my_list))\n"
   ]
  },
  {
   "cell_type": "code",
   "execution_count": 10,
   "id": "c4a640fd-8f35-4d53-a06c-f27327c34015",
   "metadata": {},
   "outputs": [
    {
     "name": "stdout",
     "output_type": "stream",
     "text": [
      "List: [10, 20, 30, 40]\n",
      "array from list: [10 20 30 40]\n",
      "<class 'numpy.ndarray'>\n",
      "tuple: [60, 33, 4, 5]\n",
      "array from typle: [60 33  4  5]\n"
     ]
    }
   ],
   "source": [
    "import numpy as np\n",
    "my_list=[10,20,30,40]\n",
    "my_tuple=[60,33,4,5]\n",
    "array_from_list=np.array(my_list)\n",
    "array_from_tuple=np.array(my_tuple)\n",
    "print(\"List:\",my_list)\n",
    "print(\"array from list:\",array_from_list)\n",
    "print(type(array_from_list))\n",
    "print(\"tuple:\",my_tuple)\n",
    "print(\"array from typle:\",array_from_tuple)"
   ]
  },
  {
   "cell_type": "code",
   "execution_count": 14,
   "id": "12fa828e-aec7-427c-8288-a901f8258e6a",
   "metadata": {},
   "outputs": [
    {
     "name": "stdout",
     "output_type": "stream",
     "text": [
      "the array: [ -1  -2   1   4 100   5]\n",
      "min element is : -2\n",
      "max element is : 100\n",
      "sum of elements in array is:  107\n"
     ]
    }
   ],
   "source": [
    "import numpy as np\n",
    "a=np.array([-1,-2,1,4,100,5])\n",
    "print(\"the array:\",a)\n",
    "print(\"min element is :\",a.min())\n",
    "print(\"max element is :\",a.max())\n",
    "print(\"sum of elements in array is: \",a.sum())"
   ]
  },
  {
   "cell_type": "code",
   "execution_count": 20,
   "id": "490f7313-2ca4-4a39-a6a6-e9f66f8edc57",
   "metadata": {},
   "outputs": [
    {
     "name": "stdout",
     "output_type": "stream",
     "text": [
      "the array:' [[ 1  2 30]\n",
      " [10 15  4]]\n",
      "the max elements of coulumn: [10 15 30]\n",
      "the min elements of row: [1 4]\n"
     ]
    }
   ],
   "source": [
    "import numpy as np\n",
    "a=np.array([[1,2,30],[10,15,4]])\n",
    "print(\"the array:'\",a)\n",
    "print(\"the max elements of coulumn:\",a.max(axis=0))\n",
    "print(\"the min elements of row:\",a.min(axis=1))"
   ]
  },
  {
   "cell_type": "code",
   "execution_count": 23,
   "id": "db78b4bf-afec-4b35-a88f-588f3860fd36",
   "metadata": {},
   "outputs": [
    {
     "name": "stdout",
     "output_type": "stream",
     "text": [
      "[1 4 7 2 5 8 3 6 9]\n",
      "[1 2 3 4 5 6 7 8 9]\n"
     ]
    }
   ],
   "source": [
    "import numpy as np\n",
    "a=np.array([[1,4,7],[2,5,8],[3,6,9]])\n",
    "b=a.flatten()\n",
    "print(b)\n",
    "x=a.flatten('F')\n",
    "print(x)"
   ]
  },
  {
   "cell_type": "code",
   "execution_count": 29,
   "id": "c08ff2e7-9437-4c23-aa86-55bc03665dd5",
   "metadata": {},
   "outputs": [
    {
     "name": "stdout",
     "output_type": "stream",
     "text": [
      "[[0. 0. 0.]\n",
      " [0. 0. 0.]\n",
      " [0. 0. 0.]]\n"
     ]
    }
   ],
   "source": [
    "import numpy as np\n",
    "b=np.zeros((3,3))\n",
    "print(b)\n"
   ]
  },
  {
   "cell_type": "code",
   "execution_count": 30,
   "id": "9ddb31f9-3a8b-4327-bdef-2769b32abb53",
   "metadata": {},
   "outputs": [
    {
     "name": "stdout",
     "output_type": "stream",
     "text": [
      "[1 1 1 1 1]\n"
     ]
    }
   ],
   "source": [
    "import numpy as np\n",
    "b=np.ones(5,dtype=np.int32)\n",
    "print(b)"
   ]
  },
  {
   "cell_type": "code",
   "execution_count": 31,
   "id": "05942aa7-5912-43e6-9180-dbd1a290e756",
   "metadata": {},
   "outputs": [
    {
     "name": "stdout",
     "output_type": "stream",
     "text": [
      "[[0.51840355 0.89631439 0.68323377]\n",
      " [0.12762396 0.62218636 0.12257233]]\n"
     ]
    }
   ],
   "source": [
    "import numpy as np\n",
    "b=np.random.rand(2,3)\n",
    "print(b)"
   ]
  },
  {
   "cell_type": "code",
   "execution_count": 32,
   "id": "78f8082d-556f-479f-b40b-703a300dec91",
   "metadata": {},
   "outputs": [
    {
     "name": "stdout",
     "output_type": "stream",
     "text": [
      "[[11  1]\n",
      " [ 8  0]]\n"
     ]
    }
   ],
   "source": [
    "a=np.array([[2,4],[5,-6]])\n",
    "b=np.array([[9,-3],[3,6]])\n",
    "c=a+b\n",
    "print(c)"
   ]
  },
  {
   "cell_type": "code",
   "execution_count": null,
   "id": "d6365f76-5c0d-420e-99eb-7d40d459cf6d",
   "metadata": {},
   "outputs": [],
   "source": []
  }
 ],
 "metadata": {
  "kernelspec": {
   "display_name": "Python 3 (ipykernel)",
   "language": "python",
   "name": "python3"
  },
  "language_info": {
   "codemirror_mode": {
    "name": "ipython",
    "version": 3
   },
   "file_extension": ".py",
   "mimetype": "text/x-python",
   "name": "python",
   "nbconvert_exporter": "python",
   "pygments_lexer": "ipython3",
   "version": "3.13.5"
  }
 },
 "nbformat": 4,
 "nbformat_minor": 5
}
